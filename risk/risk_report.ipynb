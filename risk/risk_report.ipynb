{
 "cells": [
  {
   "cell_type": "code",
   "execution_count": null,
   "metadata": {
    "vscode": {
     "languageId": "plaintext"
    }
   },
   "outputs": [],
   "source": [
    "from src.strategies.bond_arb_strategy import BayesianBondArbStrategy\n",
    "from src.utils.data_loader import load_processed_data\n",
    "from risk_metrics import StrategyRiskAnalyzer\n",
    "\n",
    "trades = load_processed_data('backtest_results/latest_trades.pkl')  \n",
    "spread_series = load_processed_data('bond_spreads_2023')\n",
    "analyzer = StrategyRiskAnalyzer(trades, initial_capital=1e6)\n",
    "risk_report = analyzer.generate_risk_report()\n",
    "\n",
    "# Generate interactive risk dashboard\n",
    "display(pd.DataFrame([risk_report]).T.rename(columns={0: 'Value'}))"
   ]
  },
  {
   "cell_type": "code",
   "execution_count": null,
   "metadata": {
    "vscode": {
     "languageId": "plaintext"
    }
   },
   "outputs": [],
   "source": [
    "# VaR method comparison\n",
    "methods = ['historical', 'gaussian', 'cornish-fisher']\n",
    "var_results = {method: analyzer.compute_strategy_var(method) for method in methods}\n",
    "pd.Series(var_results).plot(kind='bar', title='95% VaR Comparison')"
   ]
  },
  {
   "cell_type": "code",
   "execution_count": null,
   "metadata": {
    "vscode": {
     "languageId": "plaintext"
    }
   },
   "outputs": [],
   "source": [
    "# Drawdown statistics\n",
    "drawdown_stats = analyzer.compute_trade_drawdowns()\n",
    "print(f\"Max Drawdown: {drawdown_stats['max_drawdown']:.2%}\")\n",
    "print(f\"Avg Drawdown Duration: {drawdown_stats['drawdown_duration']:.1f} periods\")"
   ]
  },
  {
   "cell_type": "code",
   "execution_count": null,
   "metadata": {
    "vscode": {
     "languageId": "plaintext"
    }
   },
   "outputs": [],
   "source": [
    "# Stress testing\n",
    "def stress_test_scenario(spread_shock=0.05):\n",
    "    shocked_spread = spread_series * (1 + spread_shock)\n",
    "    shocked_trades = BayesianBondArbStrategy().backtest_strategy(shocked_spread)\n",
    "    return StrategyRiskAnalyzer(shocked_trades).generate_risk_report()\n",
    "\n",
    "stress_test_results = pd.DataFrame({\n",
    "    '5% Widening': stress_test_scenario(0.05),\n",
    "    '10% Widening': stress_test_scenario(0.10),\n",
    "    '5% Narrowing': stress_test_scenario(-0.05)\n",
    "})\n",
    "stress_test_results.T.plot(subplots=True, layout=(3,2), figsize=(12,8))"
   ]
  },
  {
   "cell_type": "code",
   "execution_count": null,
   "metadata": {
    "vscode": {
     "languageId": "plaintext"
    }
   },
   "outputs": [],
   "source": [
    "# Liquidity-adjusted VaR\n",
    "def liquidity_adjusted_var(analyzer, haircut=0.03):\n",
    "    base_var = analyzer.compute_strategy_var()\n",
    "    return base_var - haircut * analyzer.compute_trade_drawdowns()['max_drawdown']\n",
    "\n",
    "print(f\"Liquidity-Adjusted VaR: {liquidity_adjusted_var(analyzer):.2%}\")"
   ]
  },
  {
   "cell_type": "code",
   "execution_count": null,
   "metadata": {
    "vscode": {
     "languageId": "plaintext"
    }
   },
   "outputs": [],
   "source": [
    "# Compare different market regimes\n",
    "regimes = {\n",
    "    'Low Volatility': '2022-01_2022-04',\n",
    "    'High Volatility': '2023-03_2023-05'\n",
    "}\n",
    "\n",
    "for regime, period in regimes.items():\n",
    "    period_trades = load_processed_data(f'backtests/{period}_trades')\n",
    "    analyzer = StrategyRiskAnalyzer(period_trades)\n",
    "    print(f\"\\n{regime} Regime:\")\n",
    "    display(analyzer.generate_risk_report())"
   ]
  }
 ],
 "metadata": {
  "language_info": {
   "name": "python"
  }
 },
 "nbformat": 4,
 "nbformat_minor": 2
}

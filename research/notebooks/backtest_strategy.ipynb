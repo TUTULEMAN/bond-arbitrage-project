{
 "cells": [
  {
   "cell_type": "code",
   "execution_count": null,
   "metadata": {
    "vscode": {
     "languageId": "plaintext"
    }
   },
   "outputs": [],
   "source": [
    "from src.strategies.bond_arb_strategy import BayesianBondArbStrategy\n",
    "from src.utils.data_loader import load_processed_data\n",
    "\n",
    "def run_backtest(spread_series, strategy_params):\n",
    "    strategy = BayesianBondArbStrategy(**strategy_params)\n",
    "    trades = []\n",
    "    \n",
    "    for t, value in enumerate(spread_series):\n",
    "        z, mu, sigma = strategy.update_parameters(value)\n",
    "        # Generate signals and track trades...\n",
    "    \n",
    "    return trades"
   ]
  }
 ],
 "metadata": {
  "language_info": {
   "name": "python"
  }
 },
 "nbformat": 4,
 "nbformat_minor": 2
}
